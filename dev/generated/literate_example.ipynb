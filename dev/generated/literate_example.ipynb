{
 "cells": [
  {
   "cell_type": "markdown",
   "source": [
    "# Code Example\n",
    "\n",
    "This is an example of adding a code example compiled with Literate.jl in the docs.\n",
    "\n",
    "First we want to load our package with `using`"
   ],
   "metadata": {}
  },
  {
   "outputs": [],
   "cell_type": "code",
   "source": [
    "using AlgebraicOptimization"
   ],
   "metadata": {},
   "execution_count": 1
  },
  {
   "cell_type": "markdown",
   "source": [
    "## Using `hello()`\n",
    "\n",
    "We provide the `hello(string)` method which prints \"Hello, `string`!\""
   ],
   "metadata": {}
  },
  {
   "outputs": [
    {
     "output_type": "execute_result",
     "data": {
      "text/plain": "\"Hello, World!\""
     },
     "metadata": {},
     "execution_count": 2
    }
   ],
   "cell_type": "code",
   "source": [
    "hello(\"World\")"
   ],
   "metadata": {},
   "execution_count": 2
  }
 ],
 "nbformat_minor": 3,
 "metadata": {
  "language_info": {
   "file_extension": ".jl",
   "mimetype": "application/julia",
   "name": "julia",
   "version": "1.9.2"
  },
  "kernelspec": {
   "name": "julia-1.9",
   "display_name": "Julia 1.9.2",
   "language": "julia"
  }
 },
 "nbformat": 4
}
