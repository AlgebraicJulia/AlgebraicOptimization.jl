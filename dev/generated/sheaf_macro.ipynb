{
 "cells": [
  {
   "cell_type": "markdown",
   "source": [
    "# Cellular Sheaf DSL"
   ],
   "metadata": {}
  },
  {
   "cell_type": "markdown",
   "source": [
    "Here, we will illustrate how to create a cellular sheaf with the ```@cellular_sheaf``` macro."
   ],
   "metadata": {}
  },
  {
   "cell_type": "markdown",
   "source": [
    "## Introduction"
   ],
   "metadata": {}
  },
  {
   "cell_type": "markdown",
   "source": [
    "The Cellular Sheaf macro allows users to construct a cellular sheaf object. This implies that we can create a graph structure ```G(V,E)``` where V = Vertices and E = Edges in the graph \"G\". Then we can create a sheaf object on top of this graph where we can denote the following:"
   ],
   "metadata": {}
  },
  {
   "cell_type": "markdown",
   "source": [
    "- Vertex Stalks and their respective dimensions.\n",
    "- Edge Stalks and their respective dimensions.\n",
    "- Restriction Maps defined by matrices."
   ],
   "metadata": {}
  },
  {
   "cell_type": "markdown",
   "source": [
    "## Key Components"
   ],
   "metadata": {}
  },
  {
   "cell_type": "markdown",
   "source": [
    "The Cellular Sheaf macro allows a user to declare the following:"
   ],
   "metadata": {}
  },
  {
   "cell_type": "markdown",
   "source": [
    "- **Restriction Maps:** A user can define numerous restriction maps outside of the embedded DSL. Restriction maps are defined as Julia matrices:\n",
    "```A = [1 0 0; 0 0 1]```\n",
    "- **Vertex Stalks:** A user can define numerous vertex stalks by declaring a variable a ```Stalk``` type in their variable declarations. To complete a ```Stalk``` type, the user must also specify the dimension of the given vector space. This can be done by specifying a digit within brackets after the type annotation:\n",
    "   - For instance, with ```Stalk{1}```, ```1``` specifies the dimension of the vector space.\n",
    "   - To complete your vertex stalk, assign your typing to a variable name of choice such as ```vertex_name::Stalk{1}```.\n",
    "-  **Graph Edges:** Now that we have declared our restriction maps and our vertex stalks, what can we do with them? We can declare a system of linear equations that represents the relationships or edges between vertices.\n",
    "   - Let us say we are given restriction maps: A and B. Additionally, we are given vertex stalks x and y. We want to create an edge between x and y where the two incident vertices share an edge stalk vector space. We will need to map our given vertex stalks into the edge stalk vector space through our restriction maps: A and B. Given that A maps x to the shared edge space and B maps y to the shared edge space, we yield the following relation: ```A(x) == B(y)```.\n",
    "   - This declares an edge with incident vertex stalks x and y where A maps x to the shared edge space and B maps y to the shared edge space."
   ],
   "metadata": {}
  },
  {
   "cell_type": "markdown",
   "source": [
    "## Putting It All Together"
   ],
   "metadata": {}
  },
  {
   "cell_type": "markdown",
   "source": [
    "Now that we understand the different components of building a cellular sheaf within our DSL, let's create our very own cellular sheaf."
   ],
   "metadata": {}
  },
  {
   "cell_type": "markdown",
   "source": [
    "First, let's import necessary modules:"
   ],
   "metadata": {}
  },
  {
   "outputs": [],
   "cell_type": "code",
   "source": [
    "using AlgebraicOptimization"
   ],
   "metadata": {},
   "execution_count": 1
  },
  {
   "cell_type": "markdown",
   "source": [
    "### Triangular Sheaf"
   ],
   "metadata": {}
  },
  {
   "cell_type": "markdown",
   "source": [
    "Given the following graph: ```G(V, E)``` where:"
   ],
   "metadata": {}
  },
  {
   "cell_type": "markdown",
   "source": [
    "- ```V = {x, y, z}```\n",
    "- ```E = {[x -> y], [x -> z], [y -> z]}```"
   ],
   "metadata": {}
  },
  {
   "cell_type": "markdown",
   "source": [
    "We aim to create a cellular sheaf where x, y, and z are vertex stalks of dimension 4."
   ],
   "metadata": {}
  },
  {
   "cell_type": "markdown",
   "source": [
    "Furthermore, we want to establish each edge stalk with a dimension of 1. To map our vertex stalk to our edge stalk, we will need a 1 x 4 matrix for each. We can define these as A, B, C with arbitrary values since we are more concerned with the relationships than the information in this guide. The information such as feature vectors and mappings are up to the end user."
   ],
   "metadata": {}
  },
  {
   "cell_type": "markdown",
   "source": [
    "To create the restriction maps, we create Julia matrices as we normally would:"
   ],
   "metadata": {}
  },
  {
   "cell_type": "markdown",
   "source": [
    "```\n",
    "A = [1 0 0 0]\n",
    "B = [1 0 0 0]\n",
    "C = [1 0 0 0]\n",
    "```"
   ],
   "metadata": {}
  },
  {
   "cell_type": "markdown",
   "source": [
    "We can then pass these values into our macro as arguments as follows:"
   ],
   "metadata": {}
  },
  {
   "cell_type": "markdown",
   "source": [
    "```\n",
    "sheaf = @cellular_sheaf A, B, C begin end\n",
    "```"
   ],
   "metadata": {}
  },
  {
   "cell_type": "markdown",
   "source": [
    "This will essentially declare these restriction maps within our cellular sheaf."
   ],
   "metadata": {}
  },
  {
   "cell_type": "markdown",
   "source": [
    "Now, let's declare our vertex stalks and their respective dimensions. We stated that we want to declare vertex stalks of dimension 4. We can do so within our macro scope as follows:"
   ],
   "metadata": {}
  },
  {
   "cell_type": "markdown",
   "source": [
    "```\n",
    "sheaf = @cellular_sheaf A, B, C begin\n",
    "  x::Stalk{4}, y::Stalk{4}, z::Stalk{4}\n",
    "end\n",
    "```"
   ],
   "metadata": {}
  },
  {
   "cell_type": "markdown",
   "source": [
    "Great, now we want to declare our edges in the graph as well as our relationship between our restriction maps and vertex stalks. We can do this using the relationship structure illustrated earlier:"
   ],
   "metadata": {}
  },
  {
   "cell_type": "markdown",
   "source": [
    "```\n",
    "sheaf = @cellular_sheaf A, B, C begin\n",
    "    x::Stalk{4}, y::Stalk{4}, z::Stalk{4}\n",
    "    A(x) == B(y)\n",
    "    A(x) == C(z)\n",
    "    B(y) == C(z)\n",
    "end\n",
    "```"
   ],
   "metadata": {}
  },
  {
   "cell_type": "markdown",
   "source": [
    "This establishes three edges within our graph."
   ],
   "metadata": {}
  },
  {
   "cell_type": "markdown",
   "source": [
    "- An edge from x to y with restriction maps A and B.\n",
    "- An edge from x to z with restriction maps A and C.\n",
    "- An edge from y to z with restriction maps B and C."
   ],
   "metadata": {}
  },
  {
   "cell_type": "markdown",
   "source": [
    "To conclude, a complete triangular cellular sheaf would look as follows:"
   ],
   "metadata": {}
  },
  {
   "outputs": [
    {
     "output_type": "execute_result",
     "data": {
      "text/plain": "CellularSheaf([4, 4, 4], [1, 1, 1], [1.0 0.0 … 0.0 0.0; 1.0 0.0 … 0.0 0.0; 0.0 0.0 … 0.0 0.0])"
     },
     "metadata": {},
     "execution_count": 2
    }
   ],
   "cell_type": "code",
   "source": [
    "A = [1 0 1 0]\n",
    "B = [1 0 0 1]\n",
    "C = [1 0 0 0]\n",
    "\n",
    "macro_result = @cellular_sheaf A, B, C begin\n",
    "    x::Stalk{4}, y::Stalk{4}, z::Stalk{4}\n",
    "\n",
    "    A(x) == B(y)\n",
    "    A(x) == C(z)\n",
    "    B(y) == C(z)\n",
    "\n",
    "end"
   ],
   "metadata": {},
   "execution_count": 2
  },
  {
   "cell_type": "markdown",
   "source": [
    "This translates to these lower-level functions:"
   ],
   "metadata": {}
  },
  {
   "outputs": [
    {
     "output_type": "execute_result",
     "data": {
      "text/plain": "1×4 Matrix{Int64}:\n -1  0  0  0"
     },
     "metadata": {},
     "execution_count": 3
    }
   ],
   "cell_type": "code",
   "source": [
    "sheaf = CellularSheaf([4, 4, 4], [1, 1, 1])\n",
    "set_edge_maps!(sheaf, 1, 2, 1, A, B)\n",
    "set_edge_maps!(sheaf, 1, 3, 2, A, C)\n",
    "set_edge_maps!(sheaf, 2, 3, 3, B, C)"
   ],
   "metadata": {},
   "execution_count": 3
  },
  {
   "cell_type": "markdown",
   "source": [
    "which generates this sheaf object:"
   ],
   "metadata": {}
  },
  {
   "outputs": [
    {
     "output_type": "execute_result",
     "data": {
      "text/plain": "CellularSheaf([4, 4, 4], [1, 1, 1], [1.0 0.0 … 0.0 0.0; 1.0 0.0 … 0.0 0.0; 0.0 0.0 … 0.0 0.0])"
     },
     "metadata": {},
     "execution_count": 4
    }
   ],
   "cell_type": "code",
   "source": [
    "sheaf"
   ],
   "metadata": {},
   "execution_count": 4
  },
  {
   "cell_type": "markdown",
   "source": [
    "**Inferred Edge Stalks:** You may be wondering what happened to declaring edge stalks? Because restriction maps and vertex stalks are enough to infer the edge stalks dimensions, the end user does not need to worry about declaring edge stalks. They can focus on solely restriction maps and vertex stalks, minimizing potential errors form wrongly defined edge stalk dimensions."
   ],
   "metadata": {}
  },
  {
   "cell_type": "markdown",
   "source": [
    "## Potential Exceptions"
   ],
   "metadata": {}
  },
  {
   "cell_type": "markdown",
   "source": [
    "- \"No restriction maps were passed into the macro.\"\n",
    "   - The macro expects at least one restriction map input. This error implies you are trying to create a cellular sheaf with zero restriction maps.\n",
    "- \"Restriction map ... is not a matrix\"\n",
    "   - The macro expects the inputted restriction map to be a matrix. This error will throw when you attempt to pass in a restriction map that is not a matrix.\n",
    "- \"Variable declaration: ... format is invalid.\"\n",
    "  - Indicates that the inputted declaration did not match expected declaration format.\n",
    "- \"Term ... is an invalid product. A product is of form A*x or A(x).\"\n",
    "  -  Indicates the LHS or RHS of the equation was not a valid product or function of restriction map and vertex stalk.\n",
    "- \"Line is malformed\"\n",
    "  - This is a more general parsing error stating that your inputted line of code did not parse as a declaration or an equation.\n",
    "- \"Variable type ... is unsupported. Current types include: \"Stalk\" (Vertex Stalk).\"\n",
    "  - Indicates you attempted to declare a variable with an undefined type.\n",
    "- \"Variable: ... has already been declared.\"\n",
    "  - Indicates you are attempting to redeclare a variable. This is not allowed.\n",
    "- \"Inferred edge stalk on relation: Ax = By\" is inconsistent. Left restriction map maps dimension ... to dimension ... . Right restriction map maps dimension ... to dimension ... .\"\n",
    "  - Indicates that the there is no possible edge stalk value to be inferred based on the restriction map and vertex values you declared.\n",
    "- \"Left/Right restriction map (Size: ...) cannot map left/right vertex stalk (Dimension: ...).\"\n",
    "  - Implies the restriction map vector space and vertex stalk vector space can not be multiplied.\n",
    "- \"Restriction map \"...\" in \", Ax = By\" is undefined.\"\n",
    "  - The restriction map used in the given equation was never declared."
   ],
   "metadata": {}
  }
 ],
 "nbformat_minor": 3,
 "metadata": {
  "language_info": {
   "file_extension": ".jl",
   "mimetype": "application/julia",
   "name": "julia",
   "version": "1.11.5"
  },
  "kernelspec": {
   "name": "julia-1.11",
   "display_name": "Julia 1.11.5",
   "language": "julia"
  }
 },
 "nbformat": 4
}
